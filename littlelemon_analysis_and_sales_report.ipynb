{
 "cells": [
  {
   "cell_type": "code",
   "execution_count": 1,
   "id": "2e545e3a-544e-49e7-a60e-b7df3a6e23b0",
   "metadata": {},
   "outputs": [],
   "source": [
    "import mysql.connector as connector\n",
    "\n",
    "connection=connector.connect(user=\"root\",password=\"password\")"
   ]
  },
  {
   "cell_type": "code",
   "execution_count": 2,
   "id": "a6aae131-7cbc-41b9-a11f-f6db15a899c5",
   "metadata": {},
   "outputs": [],
   "source": [
    "cursor = connection.cursor()"
   ]
  },
  {
   "cell_type": "code",
   "execution_count": 5,
   "id": "7839f7af-c05c-4203-a994-55eed9ce4e85",
   "metadata": {},
   "outputs": [],
   "source": [
    "cursor.execute(\"CREATE DATABASE little_lemon_db\") "
   ]
  },
  {
   "cell_type": "code",
   "execution_count": 6,
   "id": "767b8728-8fd1-4d0a-b80c-1f7cc5ab35b3",
   "metadata": {},
   "outputs": [],
   "source": [
    "cursor.execute(\"USE little_lemon_db\")"
   ]
  },
  {
   "cell_type": "code",
   "execution_count": 7,
   "id": "98ea5890-c66a-4e0c-89b2-899ccd8b74d2",
   "metadata": {},
   "outputs": [],
   "source": [
    "create_menuitem_table = \"\"\"CREATE TABLE MenuItems (\n",
    "ItemID INT AUTO_INCREMENT,\n",
    "Name VARCHAR(200),\n",
    "Type VARCHAR(100),\n",
    "Price INT,\n",
    "PRIMARY KEY (ItemID)\n",
    ");\"\"\""
   ]
  },
  {
   "cell_type": "code",
   "execution_count": 8,
   "id": "8915e6f6-6062-4ca5-bb29-609eb88de044",
   "metadata": {},
   "outputs": [],
   "source": [
    "create_menu_table = \"\"\"CREATE TABLE Menus (\n",
    "MenuID INT,\n",
    "ItemID INT,\n",
    "Cuisine VARCHAR(100),\n",
    "PRIMARY KEY (MenuID,ItemID)\n",
    ");\"\"\""
   ]
  },
  {
   "cell_type": "code",
   "execution_count": 9,
   "id": "f4ba66a0-f75c-4424-ac9d-eef5cfdee830",
   "metadata": {},
   "outputs": [],
   "source": [
    "Create_booking_table = \"\"\"CREATE TABLE Bookings (\n",
    "BookingID INT AUTO_INCREMENT,\n",
    "TableNo INT,\n",
    "GuestFirstName VARCHAR(100) NOT NULL,\n",
    "GuestLastName VARCHAR(100) NOT NULL,\n",
    "BookingSlot TIME NOT NULL,\n",
    "EmployeeID INT,\n",
    "PRIMARY KEY (BookingID)\n",
    ");\"\"\"\n",
    "\n",
    "create_orders_table = \"\"\"CREATE TABLE Orders (\n",
    "OrderID INT,\n",
    "TableNo INT,\n",
    "MenuID INT,\n",
    "BookingID INT,\n",
    "BillAmount INT,\n",
    "Quantity INT,\n",
    "PRIMARY KEY (OrderID,TableNo)\n",
    ");\"\"\"\n",
    "\n",
    "create_employees_table = \"\"\"CREATE TABLE Employees (\n",
    "EmployeeID INT AUTO_INCREMENT PRIMARY KEY,\n",
    "Name VARCHAR(100),\n",
    "Role VARCHAR(100),\n",
    "Address VARCHAR(100),\n",
    "Contact_Number INT,\n",
    "Email VARCHAR(100),\n",
    "Annual_Salary VARCHAR(100)\n",
    ");\"\"\""
   ]
  },
  {
   "cell_type": "code",
   "execution_count": 10,
   "id": "b2b73541-b413-4250-aba5-a49e92f8fa30",
   "metadata": {},
   "outputs": [],
   "source": [
    "# Create MenuItems table\n",
    "cursor.execute(create_menuitem_table)\n",
    "\n",
    "# Create Menu table\n",
    "cursor.execute(create_menu_table)\n",
    "\n",
    "# Create Bookings table\n",
    "cursor.execute(Create_booking_table)\n",
    "\n",
    "# Create Orders table\n",
    "cursor.execute(create_orders_table)\n",
    "\n",
    "# Create Employees table\n",
    "cursor.execute(create_employees_table)"
   ]
  },
  {
   "cell_type": "code",
   "execution_count": 11,
   "id": "92d50cc9-b52f-4b20-ab94-24d34fa7af65",
   "metadata": {},
   "outputs": [],
   "source": [
    "insert_menuitems=\"\"\"\n",
    "INSERT INTO MenuItems (ItemID, Name, Type, Price)\n",
    "VALUES\n",
    "(1, 'Olives','Starters',5),\n",
    "(2, 'Flatbread','Starters', 5),\n",
    "(3, 'Minestrone', 'Starters', 8),\n",
    "(4, 'Tomato bread','Starters', 8),\n",
    "(5, 'Falafel', 'Starters', 7),\n",
    "(6, 'Hummus', 'Starters', 5),\n",
    "(7, 'Greek salad', 'Main Courses', 15),\n",
    "(8, 'Bean soup', 'Main Courses', 12),\n",
    "(9, 'Pizza', 'Main Courses', 15),\n",
    "(10, 'Greek yoghurt','Desserts', 7),\n",
    "(11, 'Ice cream', 'Desserts', 6),\n",
    "(12, 'Cheesecake', 'Desserts', 4),\n",
    "(13, 'Athens White wine', 'Drinks', 25),\n",
    "(14, 'Corfu Red Wine', 'Drinks', 30),\n",
    "(15, 'Turkish Coffee', 'Drinks', 10),\n",
    "(16, 'Turkish Coffee', 'Drinks', 10),\n",
    "(17, 'Kabasa', 'Main Courses', 17);\"\"\"\n",
    "\n",
    "insert_menu=\"\"\"\n",
    "INSERT INTO Menus (MenuID,ItemID,Cuisine)\n",
    "VALUES\n",
    "(1, 1, 'Greek'),\n",
    "(1, 7, 'Greek'),\n",
    "(1, 10, 'Greek'),\n",
    "(1, 13, 'Greek'),\n",
    "(2, 3, 'Italian'),\n",
    "(2, 9, 'Italian'),\n",
    "(2, 12, 'Italian'),\n",
    "(2, 15, 'Italian'),\n",
    "(3, 5, 'Turkish'),\n",
    "(3, 17, 'Turkish'),\n",
    "(3, 11, 'Turkish'),\n",
    "(3, 16, 'Turkish');\"\"\"\n",
    "\n",
    "#*******************************************************#\n",
    "# Insert query to populate \"Bookings\" table:\n",
    "#*******************************************************#\n",
    "insert_bookings=\"\"\"\n",
    "INSERT INTO Bookings (BookingID, TableNo, GuestFirstName, \n",
    "GuestLastName, BookingSlot, EmployeeID)\n",
    "VALUES\n",
    "(1, 12, 'Anna','Iversen','19:00:00',1),\n",
    "(2, 12, 'Joakim', 'Iversen', '19:00:00', 1),\n",
    "(3, 19, 'Vanessa', 'McCarthy', '15:00:00', 3),\n",
    "(4, 15, 'Marcos', 'Romero', '17:30:00', 4),\n",
    "(5, 5, 'Hiroki', 'Yamane', '18:30:00', 2),\n",
    "(6, 8, 'Diana', 'Pinto', '20:00:00', 5);\"\"\"\n",
    "\n",
    "#*******************************************************#\n",
    "# Insert query to populate \"Orders\" table:\n",
    "#*******************************************************#\n",
    "insert_orders=\"\"\"\n",
    "INSERT INTO Orders (OrderID, TableNo, MenuID, BookingID, Quantity, BillAmount)\n",
    "VALUES\n",
    "(1, 12, 1, 1, 2, 86),\n",
    "(2, 19, 2, 2, 1, 37),\n",
    "(3, 15, 2, 3, 1, 37),\n",
    "(4, 5, 3, 4, 1, 40),\n",
    "(5, 8, 1, 5, 1, 43);\"\"\"\n",
    "\n",
    "#*******************************************************#\n",
    "# Insert query to populate \"Employees\" table:\n",
    "#*******************************************************#\n",
    "insert_employees = \"\"\"\n",
    "INSERT INTO employees (EmployeeID, Name, Role, Address, Contact_Number, Email, Annual_Salary)\n",
    "VALUES\n",
    "(01, 'Mario Gollini', 'Manager', '724 Parsley Lane Old Town Chicago IL', 351258074, 'Mario.g@littlelemon.com', 70000),\n",
    "(02, 'Adrian Gollini', 'Assistant Manager', '334 Dill Square Lincoln Park Chicago IL', 351474048, 'Adrian.g@littlelemon.com', 65000),\n",
    "(03, 'Giorgos Dioudis', 'Head Chef', '879 Sage Street West Loop Chicago IL', 351970582, 'Giorgos.d@littlelemon.com', 50000),\n",
    "(04, 'Fatma Kaya', 'Assistant Chef', '132 Bay Lane Chicago IL', 351963569, 'Fatma.k@littlelemon.com', 45000),\n",
    "(05, 'Elena Salvai', 'Head Waiter', '989 Thyme Square EdgeWater Chicago IL', 351074198, 'Elena.s@littlelemon.com', 40000),\n",
    "(06, 'John Millar', 'Receptionist', '245 Dill Square Lincoln Park Chicago IL', 351584508, 'John.m@littlelemon.com', 35000);\"\"\"\n"
   ]
  },
  {
   "cell_type": "code",
   "execution_count": 12,
   "id": "534b9d82-d97e-4b32-95ee-9826c1a00622",
   "metadata": {},
   "outputs": [],
   "source": [
    "# Populate MenuItems table\n",
    "cursor.execute(insert_menuitems)\n",
    "connection.commit()\n",
    "\n",
    "# Populate MenuItems table\n",
    "cursor.execute(insert_menu)\n",
    "connection.commit()\n",
    "\n",
    "# Populate Bookings table\n",
    "cursor.execute(insert_bookings)\n",
    "connection.commit()\n",
    "\n",
    "# Populate Orders table\n",
    "cursor.execute(insert_orders)\n",
    "connection.commit()\n",
    "\n",
    "# Populate Employees table\n",
    "cursor.execute(insert_employees)\n",
    "connection.commit()"
   ]
  },
  {
   "cell_type": "code",
   "execution_count": 13,
   "id": "1c84b57b-59ae-475a-b28c-c3407ed5f7c5",
   "metadata": {},
   "outputs": [],
   "source": [
    "dbconfig={\"database\":\"little_lemon_db\", \"user\":\"root\", \"password\":\"password\"}\n",
    "import mysql.connector as connector\n",
    "\n",
    "connection=connector.connect(user=\"root\",password=\"password\")\n",
    "cursor = connection.cursor()"
   ]
  },
  {
   "cell_type": "code",
   "execution_count": 14,
   "id": "1af58507-7b23-45e0-9498-5355d72a1afd",
   "metadata": {},
   "outputs": [],
   "source": [
    "cursor.execute(\"USE little_lemon_db\")"
   ]
  },
  {
   "cell_type": "code",
   "execution_count": 15,
   "id": "9ba9664d-f015-40ce-b75e-8113dffae22a",
   "metadata": {},
   "outputs": [],
   "source": [
    "stored_procedure_query1= \"\"\"CREATE PROCEDURE PeakHours()\n",
    "BEGIN\n",
    "    SELECT\n",
    "        HOUR(BookingSlot) AS BookingHour,\n",
    "        COUNT(*) AS NumBookings\n",
    "    FROM\n",
    "        Bookings\n",
    "    GROUP BY\n",
    "        BookingHour\n",
    "    ORDER BY\n",
    "        NumBookings DESC;\n",
    "END;\"\"\""
   ]
  },
  {
   "cell_type": "code",
   "execution_count": 16,
   "id": "892effd3-9d71-40c9-b80e-841fbb9e8f7b",
   "metadata": {},
   "outputs": [],
   "source": [
    "cursor.execute(stored_procedure_query1)"
   ]
  },
  {
   "cell_type": "code",
   "execution_count": 17,
   "id": "60077cc8-b5fa-443a-a871-6d4516b4188b",
   "metadata": {},
   "outputs": [
    {
     "data": {
      "text/plain": [
       "()"
      ]
     },
     "execution_count": 17,
     "metadata": {},
     "output_type": "execute_result"
    }
   ],
   "source": [
    "cursor.callproc(\"PeakHours\")"
   ]
  },
  {
   "cell_type": "code",
   "execution_count": 18,
   "id": "e43c1b94-fd4e-4d13-adc8-9accfded5fb1",
   "metadata": {},
   "outputs": [],
   "source": [
    "results =next(cursor.stored_results())"
   ]
  },
  {
   "cell_type": "code",
   "execution_count": 19,
   "id": "2a2d1632-20a7-4970-9ee4-e16422f94b56",
   "metadata": {},
   "outputs": [],
   "source": [
    "dataset = results.fetchall()"
   ]
  },
  {
   "cell_type": "code",
   "execution_count": 20,
   "id": "e5b0d69d-d3e5-49f4-882d-9ac2f74ba312",
   "metadata": {},
   "outputs": [],
   "source": [
    "for column_id in cursor.stored_results(): \n",
    "    columns = [ column[0] for column in column_id.description ]"
   ]
  },
  {
   "cell_type": "code",
   "execution_count": 21,
   "id": "a7b90556-c86f-4af6-b0e8-ffb48b067373",
   "metadata": {},
   "outputs": [
    {
     "name": "stdout",
     "output_type": "stream",
     "text": [
      "['BookingHour', 'NumBookings']\n",
      "(19, 2)\n",
      "(15, 1)\n",
      "(17, 1)\n",
      "(18, 1)\n",
      "(20, 1)\n"
     ]
    }
   ],
   "source": [
    "print(columns)\n",
    "for data in dataset:\n",
    "    print(data)"
   ]
  },
  {
   "cell_type": "code",
   "execution_count": 22,
   "id": "69f9fd3e-714f-494d-a1e6-472ff5e600da",
   "metadata": {},
   "outputs": [],
   "source": [
    "stored_procedure_query2=\"\"\"\n",
    "CREATE PROCEDURE GuestStatus()\n",
    "BEGIN\n",
    "    SELECT\n",
    "        CONCAT(GuestFirstName, ' ', GuestLastName) AS GuestName,\n",
    "        CASE\n",
    "            WHEN E.Role IN ('Manager', 'Assistant Manager') THEN 'Ready to pay'\n",
    "            WHEN E.Role = 'Head Chef' THEN 'Ready to serve'\n",
    "            WHEN E.Role = 'Assistant Chef' THEN 'Preparing Order'\n",
    "            WHEN E.Role = 'Head Waiter' THEN 'Order served'\n",
    "            ELSE 'Unknown'\n",
    "        END AS Status\n",
    "    FROM\n",
    "        Bookings B\n",
    "    LEFT JOIN\n",
    "        Employees E ON B.EmployeeID = E.EmployeeID;\n",
    "END;\n",
    "\"\"\""
   ]
  },
  {
   "cell_type": "code",
   "execution_count": 23,
   "id": "b0dcf8cd-d7f4-4ef9-8bd8-f81f9012770a",
   "metadata": {},
   "outputs": [],
   "source": [
    "cursor.execute(stored_procedure_query2)"
   ]
  },
  {
   "cell_type": "code",
   "execution_count": 24,
   "id": "398b5e44-675d-47f4-8a84-b9358e0f1b89",
   "metadata": {},
   "outputs": [
    {
     "data": {
      "text/plain": [
       "()"
      ]
     },
     "execution_count": 24,
     "metadata": {},
     "output_type": "execute_result"
    }
   ],
   "source": [
    "cursor.callproc(\"GuestStatus\")"
   ]
  },
  {
   "cell_type": "code",
   "execution_count": 25,
   "id": "2dd7363a-05de-4aca-b881-25035677ff5a",
   "metadata": {},
   "outputs": [],
   "source": [
    "results1 =next(cursor.stored_results())"
   ]
  },
  {
   "cell_type": "code",
   "execution_count": 26,
   "id": "02f7dc5a-bb33-4f1d-9b18-e56a9b91055f",
   "metadata": {},
   "outputs": [],
   "source": [
    "dataset = results1.fetchall()"
   ]
  },
  {
   "cell_type": "code",
   "execution_count": 27,
   "id": "1d93d564-c136-4b7a-a1d2-5ac884d6e62b",
   "metadata": {},
   "outputs": [],
   "source": [
    "for column_id in cursor.stored_results(): \n",
    "    columns = [ column[0] for column in column_id.description ]"
   ]
  },
  {
   "cell_type": "code",
   "execution_count": 28,
   "id": "d0b0118c-52ee-48a5-a77a-edbbdf528bad",
   "metadata": {},
   "outputs": [
    {
     "name": "stdout",
     "output_type": "stream",
     "text": [
      "['GuestName', 'Status']\n",
      "('Anna Iversen', 'Ready to pay')\n",
      "('Joakim Iversen', 'Ready to pay')\n",
      "('Vanessa McCarthy', 'Ready to serve')\n",
      "('Marcos Romero', 'Preparing Order')\n",
      "('Hiroki Yamane', 'Ready to pay')\n",
      "('Diana Pinto', 'Order served')\n"
     ]
    }
   ],
   "source": [
    "print(columns)\n",
    "for row in dataset:\n",
    "    print(row)"
   ]
  },
  {
   "cell_type": "code",
   "execution_count": 29,
   "id": "a70d659c-dde0-4bdb-be67-e250af36f989",
   "metadata": {},
   "outputs": [],
   "source": [
    "connection.close()"
   ]
  },
  {
   "cell_type": "code",
   "execution_count": 1,
   "id": "54052f20-a8e3-4ac7-8998-e3c59a3d7ce4",
   "metadata": {},
   "outputs": [],
   "source": [
    "import mysql.connector\n",
    "from mysql.connector.pooling import MySQLConnectionPool, Error"
   ]
  },
  {
   "cell_type": "code",
   "execution_count": 2,
   "id": "b15a046c-5054-4d62-915a-537d33dac98f",
   "metadata": {},
   "outputs": [],
   "source": [
    "dbconfig = {\n",
    "    \"host\": \"localhost\",\n",
    "    \"user\": \"root\",\n",
    "    \"password\": \"password\",\n",
    "    \"database\": \"little_lemon_db\",\n",
    "}"
   ]
  },
  {
   "cell_type": "code",
   "execution_count": 3,
   "id": "aa3dec6e-85ce-4bb0-be39-f7bb1af2783a",
   "metadata": {},
   "outputs": [
    {
     "name": "stdout",
     "output_type": "stream",
     "text": [
      "Connection pool 'pool_b' established successfully.\n"
     ]
    }
   ],
   "source": [
    "try:\n",
    "    pool_b = MySQLConnectionPool(pool_name=\"pool_b\", pool_size=2, **dbconfig)\n",
    "    print(\"Connection pool 'pool_b' established successfully.\")\n",
    "except Error as e:\n",
    "    print(\"Error:\", e)"
   ]
  },
  {
   "cell_type": "code",
   "execution_count": 4,
   "id": "61c673e8-5cd5-4ed7-ac72-b691b74b2411",
   "metadata": {},
   "outputs": [],
   "source": [
    "guests_data = [\n",
    "    {\n",
    "        \"table_number\": 8,\n",
    "        \"first_name\": \"Anees\",\n",
    "        \"last_name\": \"Java\",\n",
    "        \"booking_time\": \"18:00\",\n",
    "        \"employee_id\": 6,\n",
    "    },\n",
    "    {\n",
    "        \"table_number\": 5,\n",
    "        \"first_name\": \"Bald\",\n",
    "        \"last_name\": \"Vin\",\n",
    "        \"booking_time\": \"19:00\",\n",
    "        \"employee_id\": 6,\n",
    "    },\n",
    "    {\n",
    "        \"table_number\": 12,\n",
    "        \"first_name\": \"Jay\",\n",
    "        \"last_name\": \"Kon\",\n",
    "        \"booking_time\": \"19:30\",\n",
    "        \"employee_id\": 6,\n",
    "    },\n",
    "]"
   ]
  },
  {
   "cell_type": "code",
   "execution_count": 5,
   "id": "3aadbe7d-0ca1-4282-a60a-1a2dc0c9e547",
   "metadata": {},
   "outputs": [
    {
     "name": "stdout",
     "output_type": "stream",
     "text": [
      "Data inserted successfully.\n"
     ]
    }
   ],
   "source": [
    "def insert_booking(cursor, data):\n",
    "    query = \"INSERT INTO Bookings (TableNo, GuestFirstName, GuestLastName, BookingSlot, EmployeeID) VALUES (%s, %s, %s, %s, %s)\"\n",
    "    cursor.execute(query, (data[\"table_number\"], data[\"first_name\"], data[\"last_name\"], data[\"booking_time\"], data[\"employee_id\"]))\n",
    "try:\n",
    "    connection1 = pool_b.get_connection()\n",
    "    cursor1 = connection1.cursor(buffered=True)\n",
    "    \n",
    "    for guest_data in guests_data:\n",
    "        insert_booking(cursor1, guest_data)\n",
    "    \n",
    "    connection1.commit()\n",
    "    cursor1.close()\n",
    "    connection1.close()\n",
    "\n",
    "    print(\"Data inserted successfully.\")\n",
    "except Error as e:\n",
    "    print(\"Error:\", e)"
   ]
  },
  {
   "cell_type": "code",
   "execution_count": 6,
   "id": "8fc5eb72-8c16-439d-9603-6f94bca49837",
   "metadata": {},
   "outputs": [
    {
     "name": "stdout",
     "output_type": "stream",
     "text": [
      "Little Lemon Manager: ('Mario Gollini', 1)\n",
      "Highest Salary Employee: ('Mario Gollini', 'Manager')\n",
      "Number of Guests Booked between 18:00 and 20:00: 10\n",
      "Guests Waiting to Be Seated:\n",
      "3: Vanessa McCarthy\n",
      "4: Marcos Romero\n",
      "7: Anees Java\n",
      "10: Anees Java\n",
      "5: Hiroki Yamane\n",
      "1: Anna Iversen\n",
      "2: Joakim Iversen\n",
      "8: Bald Vin\n",
      "11: Bald Vin\n",
      "9: Jay Kon\n",
      "12: Jay Kon\n",
      "6: Diana Pinto\n"
     ]
    }
   ],
   "source": [
    "manager_query = \"SELECT Name, EmployeeID FROM Employees WHERE Role = 'Manager'\"\n",
    "highest_salary_query = \"SELECT Name, Role FROM Employees ORDER BY Annual_Salary DESC LIMIT 1\"\n",
    "booking_count_query = \"SELECT COUNT(*) FROM Bookings WHERE BookingSlot BETWEEN '18:00' AND '20:00'\"\n",
    "waiting_guests_query = \"SELECT CONCAT(GuestFirstName, ' ', GuestLastName) AS GuestName, BookingID FROM Bookings ORDER BY BookingSlot\"\n",
    "\n",
    "try:\n",
    "    connection2 = pool_b.get_connection()\n",
    "    cursor2 = connection2.cursor(buffered=True)\n",
    "\n",
    "    cursor2.execute(manager_query)\n",
    "    manager_data = cursor2.fetchone()\n",
    "    \n",
    "    cursor2.execute(highest_salary_query)\n",
    "    highest_salary_employee = cursor2.fetchone()\n",
    "    \n",
    "    cursor2.execute(booking_count_query)\n",
    "    booking_count = cursor2.fetchone()[0]\n",
    "    \n",
    "    cursor2.execute(waiting_guests_query)\n",
    "    waiting_guests = cursor2.fetchall()\n",
    "\n",
    "    cursor2.close()\n",
    "    connection2.close()\n",
    "\n",
    "    print(\"Little Lemon Manager:\", manager_data)\n",
    "    print(\"Highest Salary Employee:\", highest_salary_employee)\n",
    "    print(\"Number of Guests Booked between 18:00 and 20:00:\", booking_count)\n",
    "    print(\"Guests Waiting to Be Seated:\")\n",
    "    for guest in waiting_guests:\n",
    "        print(f\"{guest[1]}: {guest[0]}\")\n",
    "except Error as e:\n",
    "    print(\"Error:\", e)"
   ]
  },
  {
   "cell_type": "code",
   "execution_count": 9,
   "id": "8c0afebf-e8c7-4a8a-9afa-b569318ada03",
   "metadata": {},
   "outputs": [],
   "source": [
    "stored_procedure_query= \"\"\"CREATE PROCEDURE BasicsSalesReport()\n",
    "BEGIN\n",
    "    SELECT\n",
    "        SUM(BillAmount) AS TotalSales,\n",
    "        AVG(BillAmount) AS AverageSale,\n",
    "        MIN(BillAmount) AS MinimumBillPaid,\n",
    "        MAX(BillAmount) AS MaximumBillPaid\n",
    "    FROM Orders;\n",
    "END\"\"\""
   ]
  },
  {
   "cell_type": "code",
   "execution_count": 10,
   "id": "0251bf6e-5c93-43b4-bf14-59df835f97cc",
   "metadata": {
    "scrolled": true
   },
   "outputs": [],
   "source": [
    "import mysql.connector as connector\n",
    "connection=connector.connect(user=\"root\",password=\"password\")\n",
    "cursor = connection.cursor()\n",
    "cursor.execute(\"USE little_lemon_db\")\n",
    "cursor.execute(stored_procedure_query)"
   ]
  },
  {
   "cell_type": "code",
   "execution_count": 11,
   "id": "897fa8a1-6db3-42b7-8ac0-a25104e0cd56",
   "metadata": {},
   "outputs": [
    {
     "data": {
      "text/plain": [
       "()"
      ]
     },
     "execution_count": 11,
     "metadata": {},
     "output_type": "execute_result"
    }
   ],
   "source": [
    "cursor.callproc(\"BasicsSalesReport\")"
   ]
  },
  {
   "cell_type": "code",
   "execution_count": 12,
   "id": "c8f289a8-85f6-4271-a473-ad09f22f4395",
   "metadata": {},
   "outputs": [],
   "source": [
    "results =next(cursor.stored_results())"
   ]
  },
  {
   "cell_type": "code",
   "execution_count": 13,
   "id": "d1df65d0-58ef-4622-a4b5-9d63d9b2fb06",
   "metadata": {},
   "outputs": [],
   "source": [
    "dataset = results.fetchall()"
   ]
  },
  {
   "cell_type": "code",
   "execution_count": 14,
   "id": "6bfbc504-6ba5-44b4-b957-0e73d5b44a65",
   "metadata": {},
   "outputs": [],
   "source": [
    "for column_id in cursor.stored_results(): \n",
    "    columns = [ column[0] for column in column_id.description ]"
   ]
  },
  {
   "cell_type": "code",
   "execution_count": 15,
   "id": "3b938588-60ec-4546-8b28-eb30b4982dda",
   "metadata": {},
   "outputs": [
    {
     "name": "stdout",
     "output_type": "stream",
     "text": [
      "['TotalSales', 'AverageSale', 'MinimumBillPaid', 'MaximumBillPaid']\n",
      "(Decimal('243'), Decimal('48.6000'), 37, 86)\n"
     ]
    }
   ],
   "source": [
    "print(columns)\n",
    "for row in dataset:\n",
    "    print(row)"
   ]
  },
  {
   "cell_type": "code",
   "execution_count": 16,
   "id": "5b1aa1f3-d7ae-429b-b70a-58368e896adf",
   "metadata": {},
   "outputs": [
    {
     "name": "stdout",
     "output_type": "stream",
     "text": [
      "[BookingSlot]\t[Guest_name]\t[Assigned to: Employee Name [Employee Role]]\n",
      "15:00:00\tVanessa McCarthy\tGiorgos Dioudis [Head Chef]\n",
      "17:30:00\tMarcos Romero\tFatma Kaya [Assistant Chef]\n",
      "18:00:00\tAnees Java\tJohn Millar [Receptionist]\n"
     ]
    }
   ],
   "source": [
    "try:\n",
    "    connection3 = pool_b.get_connection()\n",
    "    cursor3 = connection3.cursor(buffered=True)\n",
    "    upcoming_bookings_query = \"\"\"\n",
    "    SELECT\n",
    "        B.BookingSlot,\n",
    "        CONCAT(B.GuestFirstName, ' ', B.GuestLastName) AS GuestName,\n",
    "        CONCAT(E.Name, ' [', E.Role, ']') AS AssignedTo\n",
    "    FROM\n",
    "        Bookings AS B\n",
    "    LEFT JOIN\n",
    "        Employees AS E\n",
    "    ON\n",
    "        B.EmployeeID = E.EmployeeID\n",
    "    ORDER BY\n",
    "        B.BookingSlot\n",
    "    LIMIT 3;\n",
    "    \"\"\"\n",
    "    \n",
    "    cursor3.execute(upcoming_bookings_query)\n",
    "    upcoming_bookings = cursor3.fetchall()\n",
    "\n",
    "    cursor3.close()\n",
    "    connection3.close()\n",
    "\n",
    "    print(\"[BookingSlot]\\t[Guest_name]\\t[Assigned to: Employee Name [Employee Role]]\")\n",
    "    for booking in upcoming_bookings:\n",
    "        print(f\"{booking[0]}\\t{booking[1]}\\t{booking[2]}\")\n",
    "except Error as e:\n",
    "    print(\"Error:\", e)"
   ]
  },
  {
   "cell_type": "code",
   "execution_count": null,
   "id": "ed593e1d-7ded-448e-ac76-437de570f62a",
   "metadata": {},
   "outputs": [],
   "source": []
  }
 ],
 "metadata": {
  "kernelspec": {
   "display_name": "Python 3 (ipykernel)",
   "language": "python",
   "name": "python3"
  },
  "language_info": {
   "codemirror_mode": {
    "name": "ipython",
    "version": 3
   },
   "file_extension": ".py",
   "mimetype": "text/x-python",
   "name": "python",
   "nbconvert_exporter": "python",
   "pygments_lexer": "ipython3",
   "version": "3.9.6"
  }
 },
 "nbformat": 4,
 "nbformat_minor": 5
}
